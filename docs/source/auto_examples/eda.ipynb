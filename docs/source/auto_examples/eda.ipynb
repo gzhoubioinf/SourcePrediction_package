{
  "cells": [
    {
      "cell_type": "markdown",
      "metadata": {},
      "source": [
        "\n# 1. Exploratory Data Analysis\n"
      ]
    },
    {
      "cell_type": "code",
      "execution_count": null,
      "metadata": {
        "collapsed": false
      },
      "outputs": [],
      "source": [
        "# importing necessary modules\n\nimport numpy as np\n\nimport matplotlib.pyplot as plt\n\nfrom dython.nominal import associations\n\nfrom easy_mpl.utils import create_subplots\nfrom easy_mpl import pie\n\nfrom utils import get_data"
      ]
    },
    {
      "cell_type": "code",
      "execution_count": null,
      "metadata": {
        "collapsed": false
      },
      "outputs": [],
      "source": [
        "# filename = f'dataset/chunk_0004'\n#\n# with open(filename, 'rb', buffering=30) as file:\n#     fio = io.FileIO(file.fileno())\n#     fbuf = io.BufferedReader(fio)\n#     print(fbuf.read(500))\n\n# reading data\nX, y = get_data()\n\nfeature_names = ['TTTTTTGCTAGCGGAAAACGGAGATTTAAAAGAAAACAAAATATTTTTTGCGTA',\n                 'TTTTTTGCTAGCTGAACGTAAAACATTAAATTTCGCTCATTATTATATTATGCT',\n                 'TTTTTTGCTAGGAAGTCGGCAGCCACGCGTAGTGCGCCAGTGCCACCCGGAGTC',\n                 'TTTTTTGCTATAGCAATGGTAGCAGCACCATCCGTACTTAAAAACGCACTAAAT',\n                 'TTTTTTGCTATATGCGGTTTGTAAGATTGATTTTTCTTCTCAAGTTCCTTGTTC',\n                 'TTTTTTGCTATCAAAATGCTACCTCTCCCTTCTTGCAATAAATGACCAAGGCAC',\n                 'TTTTTTGCTATCAATCTTATTGATTTAATTTCATTGCTTAATACTAACTTAATA',\n                 'TTTTTTGCTATCAATGAATTCATTAATTCCTAACTCATTAATTAGATCTGCAAT',\n                 'TTTTTTGCTATCACCGAAAATAGTGCGGATCCCGCATGGTATTTAGGTTTACCC',\n                 'TTTTTTGCTATCAGCCGACGCTGATCGGCGTACCCGCAAATGCTGATTTGCGTT']"
      ]
    },
    {
      "cell_type": "code",
      "execution_count": null,
      "metadata": {
        "collapsed": false
      },
      "outputs": [],
      "source": [
        "# converting sparse matrix to a numpy array\nX_array = X.toarray()"
      ]
    },
    {
      "cell_type": "code",
      "execution_count": null,
      "metadata": {
        "collapsed": false
      },
      "outputs": [],
      "source": [
        "# plotting heatmap\n\nwhole_data = np.concatenate((X_array, y.values.reshape(-1, 1)), axis=1)\n_ = associations(\n    whole_data,\n    nom_nom_assoc=\"cramer\",\n    fmt=\".1f\",\n    figsize=(8, 8),\n    plot=False,\n    cbar=True\n)\nplt.tight_layout()\nplt.show()"
      ]
    },
    {
      "cell_type": "code",
      "execution_count": null,
      "metadata": {
        "collapsed": false
      },
      "outputs": [],
      "source": [
        "# plotting input features\n\nfig, axes = create_subplots(10, figsize=(14,10))\n\nfor col, ax in zip(range(X.shape[1]), axes.flatten()):\n\n    pie(X_array[:, col], ax=ax,\n        ax_kws=dict(title=f'input feature {col+1}'), show=False)\n\nplt.tight_layout()\nplt.show()"
      ]
    },
    {
      "cell_type": "code",
      "execution_count": null,
      "metadata": {
        "collapsed": false
      },
      "outputs": [],
      "source": [
        "# pie chart of target\n\npie(y, ax_kws=dict(title='Target'))"
      ]
    }
  ],
  "metadata": {
    "kernelspec": {
      "display_name": "Python 3",
      "language": "python",
      "name": "python3"
    },
    "language_info": {
      "codemirror_mode": {
        "name": "ipython",
        "version": 3
      },
      "file_extension": ".py",
      "mimetype": "text/x-python",
      "name": "python",
      "nbconvert_exporter": "python",
      "pygments_lexer": "ipython3",
      "version": "3.9.0"
    }
  },
  "nbformat": 4,
  "nbformat_minor": 0
}