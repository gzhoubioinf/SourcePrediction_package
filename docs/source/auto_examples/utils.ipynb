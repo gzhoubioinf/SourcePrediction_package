{
  "cells": [
    {
      "cell_type": "markdown",
      "metadata": {},
      "source": [
        "\n# utils\n"
      ]
    },
    {
      "cell_type": "code",
      "execution_count": null,
      "metadata": {
        "collapsed": false
      },
      "outputs": [],
      "source": [
        "# importing necessary modules\n\nimport os\nimport json\n\nimport kmer_ml"
      ]
    },
    {
      "cell_type": "code",
      "execution_count": null,
      "metadata": {
        "collapsed": false
      },
      "outputs": [],
      "source": [
        "# data preprocessing\ndef get_data():\n\n    best_feature_indices = [20178, 20177, 20176, 20175, 20174, 20173, 20172, 20171, 20170,\n       20169]\n\n    with open(os.path.join(os.path.dirname(os.getcwd()), 'example', 'input.json'), 'r') as f:\n        data = json.load(f)\n\n    cutoff = data['cutoff']\n    numb_files_select = data['numb_files_select']\n    traits_scoary_path = data['traits_scoary_path']\n    class_label = data['class_label']\n    chunkdata_path = data['chunkdata_path']\n\n    filepath  = chunkdata_path\n    filtered_df = kmer_ml.get_datafilter(class_label,traits_scoary_path)\n    row_list = filtered_df.transpose().columns.values\n\n    X, voc_col, voc_row, removed_percent =kmer_ml.get_datamatrix(row_list,\n                                                            numb_files_select=numb_files_select,\n                                                            datapath=filepath,\n                                                            cutoff=cutoff)\n    # X = mtr\n    y = filtered_df['data_type']\n\n    X_subset = X[:, best_feature_indices]\n\n    return X_subset, y"
      ]
    }
  ],
  "metadata": {
    "kernelspec": {
      "display_name": "Python 3",
      "language": "python",
      "name": "python3"
    },
    "language_info": {
      "codemirror_mode": {
        "name": "ipython",
        "version": 3
      },
      "file_extension": ".py",
      "mimetype": "text/x-python",
      "name": "python",
      "nbconvert_exporter": "python",
      "pygments_lexer": "ipython3",
      "version": "3.9.0"
    }
  },
  "nbformat": 4,
  "nbformat_minor": 0
}